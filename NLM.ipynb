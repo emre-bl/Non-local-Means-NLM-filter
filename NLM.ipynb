{
 "cells": [
  {
   "cell_type": "code",
   "execution_count": 1,
   "metadata": {},
   "outputs": [],
   "source": [
    "import cv2 as cv\n",
    "import numpy as np"
   ]
  },
  {
   "cell_type": "code",
   "execution_count": 2,
   "metadata": {},
   "outputs": [],
   "source": [
    "def NLM(img, h, templateWindowSize, searchWindowSize):\n",
    "    result = np.zeros(img.shape)\n",
    "    halfTemplate = int(templateWindowSize / 2)\n",
    "    halfSearch = int(searchWindowSize / 2)\n",
    "    for i in range(halfTemplate, img.shape[0] - halfTemplate):\n",
    "        for j in range(halfTemplate, img.shape[1] - halfTemplate):\n",
    "            iMin = max(i - halfSearch, halfTemplate)\n",
    "            iMax = min(i + halfSearch, img.shape[0] - halfTemplate)\n",
    "            jMin = max(j - halfSearch, halfTemplate)\n",
    "            jMax = min(j + halfSearch, img.shape[1] - halfTemplate)\n",
    "            patch = img[i - halfTemplate:i + halfTemplate + 1, j - halfTemplate:j + halfTemplate + 1]\n",
    "            dist = ((img[iMin:iMax + 1, jMin:jMax + 1] - patch) ** 2).sum(axis=2)\n",
    "            w = np.exp(-dist / (h * h))\n",
    "            result[i, j] = (w * img[iMin:iMax + 1, jMin:jMax + 1]).sum() / w.sum()\n",
    "    return result"
   ]
  },
  {
   "cell_type": "code",
   "execution_count": 4,
   "metadata": {},
   "outputs": [],
   "source": [
    "def Z(Vp, h, img):\n",
    "    import math\n",
    "    sum = 0\n",
    "    for i in range(0, img.shape[0]):\n",
    "        for j in range(0, img.shape[1]):\n",
    "            sum += math.exp(-(math.dist(Vp, img[i, j]) ** 2)/h**2)\n",
    "\n",
    "    return sum"
   ]
  },
  {
   "cell_type": "code",
   "execution_count": 5,
   "metadata": {},
   "outputs": [],
   "source": [
    "def w(Vp, Vq, h, img):\n",
    "    import math\n",
    "    return math.exp(-(math.dist(Vp, Vq) ** 2)/h**2)/Z(Vp, h, img)"
   ]
  },
  {
   "cell_type": "code",
   "execution_count": null,
   "metadata": {},
   "outputs": [],
   "source": []
  }
 ],
 "metadata": {
  "kernelspec": {
   "display_name": "Python 3.7.7 32-bit",
   "language": "python",
   "name": "python3"
  },
  "language_info": {
   "codemirror_mode": {
    "name": "ipython",
    "version": 3
   },
   "file_extension": ".py",
   "mimetype": "text/x-python",
   "name": "python",
   "nbconvert_exporter": "python",
   "pygments_lexer": "ipython3",
   "version": "3.7.7"
  },
  "orig_nbformat": 4,
  "vscode": {
   "interpreter": {
    "hash": "f6633999bd260be23e31b27dc68bffa77ff6ff3089afaa8e46e0c109919a3999"
   }
  }
 },
 "nbformat": 4,
 "nbformat_minor": 2
}
